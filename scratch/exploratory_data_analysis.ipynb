{
 "cells": [
  {
   "cell_type": "code",
   "execution_count": null,
   "metadata": {},
   "outputs": [],
   "source": [
    "import pandas as pd\n",
    "import geopandas as gpd\n",
    "import matplotlib.pyplot as plt\n",
    "import seaborn as sns\n",
    "\n",
    "# File paths\n",
    "airbnb_file = \"/Users/mustafa/Documents/GitHub/assessment-rent-airbnb/data/airbnb.csv\"\n",
    "rentals_file = \"/Users/mustafa/Documents/GitHub/assessment-rent-airbnb/data/rentals.json\"\n",
    "geo_postcodes_file = \"/Users/mustafa/Documents/GitHub/assessment-rent-airbnb/data/geo/post_codes.geojson\"\n",
    "\n",
    "# Load data\n",
    "airbnb_data = pd.read_csv(airbnb_file)\n",
    "rental_data = pd.read_json(rentals_file)\n",
    "geojson_data = gpd.read_file(geo_postcodes_file)\n",
    "\n"
   ]
  },
  {
   "cell_type": "code",
   "execution_count": null,
   "metadata": {},
   "outputs": [],
   "source": [
    "# Data cleaning\n",
    "airbnb_data[\"price\"] = airbnb_data[\"price\"].str.replace(\"€\", \"\").str.replace(\",\", \"\").astype(float)\n",
    "rental_data[\"rent\"] = rental_data[\"rent\"].str.replace(\"€\", \"\").str.replace(\",\", \"\").str.extract(\"(\\d+)\").astype(float)\n",
    "\n",
    "# Calculate potential revenue per postcode\n",
    "airbnb_revenue = airbnb_data.groupby(\"zipcode\")[\"price\"].mean().reset_index()\n",
    "rental_revenue = rental_data.groupby(\"postalCode\")[\"rent\"].mean().reset_index()\n",
    "\n",
    "# Merge Airbnb and rental revenue with GeoJSON\n",
    "geojson_data = geojson_data.rename(columns={\"pc4_code\": \"zipcode\"})\n",
    "geojson_data[\"zipcode\"] = geojson_data[\"zipcode\"].astype(str)\n",
    "airbnb_geo = geojson_data.merge(airbnb_revenue, left_on=\"zipcode\", right_on=\"zipcode\", how=\"left\")\n",
    "rental_geo = geojson_data.merge(rental_revenue, left_on=\"zipcode\", right_on=\"postalCode\", how=\"left\")\n",
    "\n"
   ]
  },
  {
   "cell_type": "code",
   "execution_count": null,
   "metadata": {},
   "outputs": [],
   "source": [
    "# Plot Airbnb revenue per postcode\n",
    "plt.figure(figsize=(12, 8))\n",
    "airbnb_geo.plot(column=\"price\", cmap=\"YlGnBu\", legend=True, edgecolor=\"black\")\n",
    "plt.title(\"Airbnb Revenue per Postcode\", fontsize=16)\n",
    "plt.axis(\"off\")\n",
    "plt.show()\n",
    "\n",
    "# Plot Rental revenue per postcode\n",
    "plt.figure(figsize=(12, 8))\n",
    "rental_geo.plot(column=\"rent\", cmap=\"OrRd\", legend=True, edgecolor=\"black\")\n",
    "plt.title(\"Rental Revenue per Postcode\", fontsize=16)\n",
    "plt.axis(\"off\")\n",
    "plt.show()\n",
    "\n",
    "# Combined Bar Plot for Comparison\n",
    "combined_data = airbnb_revenue.merge(rental_revenue, left_on=\"zipcode\", right_on=\"postalCode\", how=\"inner\")\n",
    "combined_data.columns = [\"Postcode\", \"Airbnb Revenue\", \"Rental Revenue\"]\n",
    "combined_data = combined_data.melt(id_vars=[\"Postcode\"], var_name=\"Revenue Type\", value_name=\"Revenue\")\n",
    "\n",
    "plt.figure(figsize=(14, 8))\n",
    "sns.barplot(data=combined_data, x=\"Postcode\", y=\"Revenue\", hue=\"Revenue Type\")\n",
    "plt.title(\"Comparison of Airbnb and Rental Revenue per Postcode\", fontsize=16)\n",
    "plt.xticks(rotation=45)\n",
    "plt.tight_layout()\n",
    "plt.show()"
   ]
  }
 ],
 "metadata": {
  "language_info": {
   "name": "python"
  }
 },
 "nbformat": 4,
 "nbformat_minor": 2
}
