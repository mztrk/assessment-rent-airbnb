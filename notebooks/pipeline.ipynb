{
 "cells": [
  {
   "cell_type": "code",
   "execution_count": null,
   "metadata": {},
   "outputs": [],
   "source": [
    "from src.data_pipeline.ingestion import ingest_airbnb_data, ingest_rentals_data\n",
    "from src.data_pipeline.cleaning import clean_airbnb_data, clean_rentals_data\n",
    "from src.data_pipeline.transformations import calculate_average_revenue\n",
    "from src.data_pipeline.utils import export_to_parquet\n",
    "\n",
    "# File paths\n",
    "airbnb_file = './data/airbnb.csv'\n",
    "rentals_file = './data/rentals.json'\n",
    "output_file = './data/output/gold_layer.parquet'\n",
    "\n",
    "# Step 1: Ingest data\n",
    "airbnb_data = ingest_airbnb_data(airbnb_file)\n",
    "rentals_data = ingest_rentals_data(rentals_file)\n",
    "\n",
    "# Step 2: Clean data\n",
    "clean_airbnb = clean_airbnb_data(airbnb_data)\n",
    "clean_rentals = clean_rentals_data(rentals_data)\n",
    "\n",
    "# Step 3: Transform data\n",
    "gold_layer = calculate_average_revenue(clean_airbnb, clean_rentals)\n",
    "\n",
    "# Step 4: Export data\n",
    "export_to_parquet(gold_layer, output_file)\n",
    "\n",
    "print(\"Pipeline executed successfully. Gold layer output saved.\")"
   ]
  }
 ],
 "metadata": {
  "language_info": {
   "name": "python"
  }
 },
 "nbformat": 4,
 "nbformat_minor": 2
}
